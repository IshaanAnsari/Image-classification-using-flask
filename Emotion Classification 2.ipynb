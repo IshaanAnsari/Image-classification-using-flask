{
 "cells": [
  {
   "cell_type": "code",
   "execution_count": 1,
   "id": "2078c974",
   "metadata": {},
   "outputs": [],
   "source": [
    "import tensorflow as tf\n",
    "from tensorflow.keras.layers import Input, Lambda, Dense, Flatten\n",
    "from tensorflow.keras.models import Model\n",
    "from tensorflow.keras.preprocessing import image\n",
    "from tensorflow.keras.preprocessing.image import ImageDataGenerator,load_img\n",
    "from tensorflow.keras.models import Sequential\n",
    "import numpy as np\n",
    "from glob import glob\n",
    "import matplotlib.pyplot as plt\n",
    "import os"
   ]
  },
  {
   "cell_type": "code",
   "execution_count": 2,
   "id": "4687e9d1",
   "metadata": {},
   "outputs": [],
   "source": [
    "train = ImageDataGenerator(rescale= 1/255)\n",
    "validation = ImageDataGenerator(rescale= 1/255)"
   ]
  },
  {
   "cell_type": "code",
   "execution_count": 3,
   "id": "c84a5744",
   "metadata": {},
   "outputs": [
    {
     "name": "stdout",
     "output_type": "stream",
     "text": [
      "Found 302 images belonging to 2 classes.\n",
      "Found 90 images belonging to 2 classes.\n"
     ]
    }
   ],
   "source": [
    "train_dataset = train.flow_from_directory('data/train/',\n",
    "                                         target_size = (256,256),\n",
    "                                         batch_size = 3,\n",
    "                                         class_mode = 'binary')\n",
    "\n",
    "val_dataset = validation.flow_from_directory('data/validation/',\n",
    "                                         target_size = (256,256),\n",
    "                                         batch_size = 3,\n",
    "                                         class_mode = 'binary')"
   ]
  },
  {
   "cell_type": "code",
   "execution_count": 4,
   "id": "66ad9998",
   "metadata": {},
   "outputs": [
    {
     "data": {
      "text/plain": [
       "{'happy': 0, 'sad': 1}"
      ]
     },
     "execution_count": 4,
     "metadata": {},
     "output_type": "execute_result"
    }
   ],
   "source": [
    "train_dataset.class_indices"
   ]
  },
  {
   "cell_type": "code",
   "execution_count": 5,
   "id": "6ee4397f",
   "metadata": {},
   "outputs": [],
   "source": [
    "from tensorflow.keras.models import Sequential\n",
    "from tensorflow.keras.layers import Conv2D, MaxPooling2D, Dense, Flatten, Dropout"
   ]
  },
  {
   "cell_type": "code",
   "execution_count": 6,
   "id": "601d728b",
   "metadata": {},
   "outputs": [],
   "source": [
    "model = Sequential()"
   ]
  },
  {
   "cell_type": "code",
   "execution_count": 7,
   "id": "f3dfe65f",
   "metadata": {},
   "outputs": [],
   "source": [
    "model.add(Conv2D(16, (3,3), 1, activation='relu', input_shape=(256,256,3)))\n",
    "model.add(MaxPooling2D(2,2))\n",
    "model.add(Conv2D(32, (3,3), 1, activation='relu'))\n",
    "model.add(MaxPooling2D(2,2))\n",
    "model.add(Conv2D(64, (3,3), 1, activation='relu'))\n",
    "model.add(MaxPooling2D())\n",
    "model.add(Flatten())\n",
    "model.add(Dense(512, activation='relu'))\n",
    "model.add(Dense(1, activation='sigmoid'))"
   ]
  },
  {
   "cell_type": "code",
   "execution_count": 8,
   "id": "192adf57",
   "metadata": {},
   "outputs": [],
   "source": [
    "model.compile('adam', loss=tf.losses.BinaryCrossentropy(), metrics=['accuracy'])"
   ]
  },
  {
   "cell_type": "code",
   "execution_count": 9,
   "id": "aa03d1df",
   "metadata": {},
   "outputs": [
    {
     "name": "stdout",
     "output_type": "stream",
     "text": [
      "Model: \"sequential\"\n",
      "_________________________________________________________________\n",
      " Layer (type)                Output Shape              Param #   \n",
      "=================================================================\n",
      " conv2d (Conv2D)             (None, 254, 254, 16)      448       \n",
      "                                                                 \n",
      " max_pooling2d (MaxPooling2D  (None, 127, 127, 16)     0         \n",
      " )                                                               \n",
      "                                                                 \n",
      " conv2d_1 (Conv2D)           (None, 125, 125, 32)      4640      \n",
      "                                                                 \n",
      " max_pooling2d_1 (MaxPooling  (None, 62, 62, 32)       0         \n",
      " 2D)                                                             \n",
      "                                                                 \n",
      " conv2d_2 (Conv2D)           (None, 60, 60, 64)        18496     \n",
      "                                                                 \n",
      " max_pooling2d_2 (MaxPooling  (None, 30, 30, 64)       0         \n",
      " 2D)                                                             \n",
      "                                                                 \n",
      " flatten (Flatten)           (None, 57600)             0         \n",
      "                                                                 \n",
      " dense (Dense)               (None, 512)               29491712  \n",
      "                                                                 \n",
      " dense_1 (Dense)             (None, 1)                 513       \n",
      "                                                                 \n",
      "=================================================================\n",
      "Total params: 29,515,809\n",
      "Trainable params: 29,515,809\n",
      "Non-trainable params: 0\n",
      "_________________________________________________________________\n"
     ]
    }
   ],
   "source": [
    "model.summary()"
   ]
  },
  {
   "cell_type": "code",
   "execution_count": 10,
   "id": "e51705b2",
   "metadata": {},
   "outputs": [
    {
     "name": "stdout",
     "output_type": "stream",
     "text": [
      "Epoch 1/15\n",
      "101/101 [==============================] - 32s 310ms/step - loss: 0.8262 - accuracy: 0.6026 - val_loss: 0.7344 - val_accuracy: 0.5556\n",
      "Epoch 2/15\n",
      "101/101 [==============================] - 36s 358ms/step - loss: 0.5485 - accuracy: 0.7550 - val_loss: 0.8185 - val_accuracy: 0.6111\n",
      "Epoch 3/15\n",
      "101/101 [==============================] - 34s 334ms/step - loss: 0.3990 - accuracy: 0.8411 - val_loss: 0.3569 - val_accuracy: 0.8444\n",
      "Epoch 4/15\n",
      "101/101 [==============================] - 34s 340ms/step - loss: 0.2864 - accuracy: 0.9172 - val_loss: 0.3463 - val_accuracy: 0.8444\n",
      "Epoch 5/15\n",
      "101/101 [==============================] - 35s 343ms/step - loss: 0.1812 - accuracy: 0.9238 - val_loss: 0.1052 - val_accuracy: 0.9556\n",
      "Epoch 6/15\n",
      "101/101 [==============================] - 35s 347ms/step - loss: 0.1349 - accuracy: 0.9437 - val_loss: 0.2557 - val_accuracy: 0.9667\n",
      "Epoch 7/15\n",
      "101/101 [==============================] - 35s 347ms/step - loss: 0.1005 - accuracy: 0.9603 - val_loss: 0.0498 - val_accuracy: 0.9889\n",
      "Epoch 8/15\n",
      "101/101 [==============================] - 35s 346ms/step - loss: 0.0252 - accuracy: 0.9901 - val_loss: 0.0217 - val_accuracy: 0.9889\n",
      "Epoch 9/15\n",
      "101/101 [==============================] - 35s 347ms/step - loss: 0.0657 - accuracy: 0.9768 - val_loss: 0.0314 - val_accuracy: 0.9889\n",
      "Epoch 10/15\n",
      "101/101 [==============================] - 35s 343ms/step - loss: 0.0462 - accuracy: 0.9868 - val_loss: 0.0069 - val_accuracy: 1.0000\n",
      "Epoch 11/15\n",
      "101/101 [==============================] - 35s 346ms/step - loss: 0.0264 - accuracy: 0.9901 - val_loss: 0.0122 - val_accuracy: 1.0000\n",
      "Epoch 12/15\n",
      "101/101 [==============================] - 35s 350ms/step - loss: 0.0201 - accuracy: 0.9901 - val_loss: 0.0224 - val_accuracy: 0.9889\n",
      "Epoch 13/15\n",
      "101/101 [==============================] - 35s 350ms/step - loss: 0.0082 - accuracy: 0.9934 - val_loss: 0.0040 - val_accuracy: 1.0000\n",
      "Epoch 14/15\n",
      "101/101 [==============================] - 36s 356ms/step - loss: 0.0085 - accuracy: 0.9967 - val_loss: 8.7432e-04 - val_accuracy: 1.0000\n",
      "Epoch 15/15\n",
      "101/101 [==============================] - 34s 340ms/step - loss: 0.0066 - accuracy: 0.9967 - val_loss: 0.0067 - val_accuracy: 1.0000\n"
     ]
    }
   ],
   "source": [
    "model_fit = model.fit(train_dataset, epochs=15, validation_data=val_dataset)"
   ]
  },
  {
   "cell_type": "code",
   "execution_count": 11,
   "id": "d4b6e041",
   "metadata": {},
   "outputs": [
    {
     "data": {
      "image/png": "[encoded data removed]",
      "text/plain": [
       "<Figure size 640x480 with 1 Axes>"
      ]
     },
     "metadata": {},
     "output_type": "display_data"
    }
   ],
   "source": [
    "fig = plt.figure()\n",
    "plt.plot(model_fit.history['loss'], color='teal', label='loss')\n",
    "plt.plot(model_fit.history['val_loss'], color='orange', label='val_loss')\n",
    "fig.suptitle('Loss', fontsize=20)\n",
    "plt.legend(loc=\"upper left\")\n",
    "plt.show()"
   ]
  },
  {
   "cell_type": "code",
   "execution_count": 12,
   "id": "8d4d9393",
   "metadata": {},
   "outputs": [
    {
     "data": {
      "image/png": "[encoded data removed]",
      "text/plain": [
       "<Figure size 640x480 with 1 Axes>"
      ]
     },
     "metadata": {},
     "output_type": "display_data"
    }
   ],
   "source": [
    "fig = plt.figure()\n",
    "plt.plot(model_fit.history['accuracy'], color='teal', label='accuracy')\n",
    "plt.plot(model_fit.history['val_accuracy'], color='orange', label='val_accuracy')\n",
    "fig.suptitle('Accuracy', fontsize=20)\n",
    "plt.legend(loc=\"upper left\")\n",
    "plt.show()"
   ]
  },
  {
   "cell_type": "code",
   "execution_count": 17,
   "id": "a515fbd9",
   "metadata": {},
   "outputs": [],
   "source": [
    "import cv2"
   ]
  },
  {
   "cell_type": "code",
   "execution_count": null,
   "id": "d2b8e98b",
   "metadata": {},
   "outputs": [],
   "source": [
    "## Evaluating the Deep Learning Model over unseen data\n",
    "img = cv2.imread('test.jpg')\n",
    "plt.imshow(img)\n",
    "plt.show()"
   ]
  },
  {
   "cell_type": "code",
   "execution_count": null,
   "id": "9b3020bc",
   "metadata": {},
   "outputs": [],
   "source": [
    "resize = tf.image.resize(img, (256,256))\n",
    "plt.imshow(resize.numpy().astype(int))\n",
    "plt.show()"
   ]
  },
  {
   "cell_type": "code",
   "execution_count": null,
   "id": "536b456f",
   "metadata": {},
   "outputs": [],
   "source": [
    "yhat = model.predict(np.expand_dims(resize/255, 0))"
   ]
  },
  {
   "cell_type": "code",
   "execution_count": null,
   "id": "025f27fa",
   "metadata": {},
   "outputs": [],
   "source": [
    "yhat"
   ]
  },
  {
   "cell_type": "code",
   "execution_count": 24,
   "id": "d0bd6ccd",
   "metadata": {},
   "outputs": [],
   "source": [
    "def predict():\n",
    "    if yhat > 0.5:\n",
    "        print(f'Sad')\n",
    "    else:\n",
    "        print(f'Happy')"
   ]
  },
  {
   "cell_type": "code",
   "execution_count": 25,
   "id": "c0a2be7a",
   "metadata": {},
   "outputs": [],
   "source": [
    "from tensorflow.keras.models import load_model"
   ]
  },
  {
   "cell_type": "code",
   "execution_count": 26,
   "id": "71a54fee",
   "metadata": {},
   "outputs": [],
   "source": [
    "model.save(os.path.join('models', 'imageClassifier.h5'))"
   ]
  }
 ],
 "metadata": {
  "kernelspec": {
   "display_name": "Python 3 (ipykernel)",
   "language": "python",
   "name": "python3"
  },
  "language_info": {
   "codemirror_mode": {
    "name": "ipython",
    "version": 3
   },
   "file_extension": ".py",
   "mimetype": "text/x-python",
   "name": "python",
   "nbconvert_exporter": "python",
   "pygments_lexer": "ipython3",
   "version": "3.11.0"
  }
 },
 "nbformat": 4,
 "nbformat_minor": 5
}
